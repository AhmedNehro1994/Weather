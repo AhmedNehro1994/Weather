{
 "cells": [
  {
   "cell_type": "code",
   "execution_count": 5,
   "id": "0db6a175",
   "metadata": {},
   "outputs": [],
   "source": [
    "import requests\n",
    "import json\n",
    "import csv\n",
    "\n",
    "respons = requests.get(\"https://www.metaweather.com/api/location/1521894/\")\n",
    "a = respons.text\n",
    "h = json.loads(a)\n"
   ]
  },
  {
   "cell_type": "markdown",
   "id": "ec2b7bbe",
   "metadata": {},
   "source": [
    "# first day"
   ]
  },
  {
   "cell_type": "code",
   "execution_count": 55,
   "id": "29eb977d",
   "metadata": {},
   "outputs": [],
   "source": [
    "import datetime\n",
    "now = datetime.datetime.now()\n",
    "Time= now.strftime(\"%Y/%m/%d\")\n",
    "fieldnames = ['ToDay','weather temperature','humidity','visibility','air pressure','wind speed']\n",
    "with open('weather.csv','w',newline= '') as f:\n",
    "    writer = csv.DictWriter(f, fieldnames=fieldnames)\n",
    "    writer.writeheader()\n",
    "    for i in h['consolidated_weather']:\n",
    "        weather_temperature = i['the_temp']\n",
    "        humidity =i['humidity']\n",
    "        visibility =i['visibility']\n",
    "        air_pressure = i['air_pressure']\n",
    "        wind_speed = i['wind_speed']\n",
    "        writer.writerow({'ToDay':Time,'weather temperature':weather_temperature,'humidity':humidity,'visibility':visibility,'air pressure':air_pressure,'wind speed':wind_speed})\n",
    "    "
   ]
  },
  {
   "cell_type": "markdown",
   "id": "cbefacc2",
   "metadata": {},
   "source": [
    "# second day"
   ]
  },
  {
   "cell_type": "code",
   "execution_count": 53,
   "id": "13545daf",
   "metadata": {},
   "outputs": [],
   "source": [
    "with open('weather.csv','w',newline= '') as f:\n",
    "    writer = csv.DictWriter(f, fieldnames=fieldnames)\n",
    "    writer.writeheader()\n",
    "    for i in h['consolidated_weather']:\n",
    "        weather_temperature = i['the_temp']\n",
    "        humidity =i['humidity']\n",
    "        visibility =i['visibility']\n",
    "        air_pressure = i['air_pressure']\n",
    "        wind_speed = i['wind_speed']\n",
    "        writer.writerow({'ToDay':Time,'weather temperature':weather_temperature,'humidity':humidity,'visibility':visibility,'air pressure':air_pressure,'wind speed':wind_speed})\n",
    "    "
   ]
  },
  {
   "cell_type": "markdown",
   "id": "b80ce06b",
   "metadata": {},
   "source": [
    "# third day"
   ]
  },
  {
   "cell_type": "code",
   "execution_count": null,
   "id": "02be33b8",
   "metadata": {},
   "outputs": [],
   "source": [
    "with open('weather.csv','w',newline= '') as f:\n",
    "    writer = csv.DictWriter(f, fieldnames=fieldnames)\n",
    "    writer.writeheader()\n",
    "    for i in h['consolidated_weather']:\n",
    "        weather_temperature = i['the_temp']\n",
    "        humidity =i['humidity']\n",
    "        visibility =i['visibility']\n",
    "        air_pressure = i['air_pressure']\n",
    "        wind_speed = i['wind_speed']\n",
    "        writer.writerow({'ToDay':Time,'weather temperature':weather_temperature,'humidity':humidity,'visibility':visibility,'air pressure':air_pressure,'wind speed':wind_speed})\n",
    "    "
   ]
  }
 ],
 "metadata": {
  "kernelspec": {
   "display_name": "Python 3 (ipykernel)",
   "language": "python",
   "name": "python3"
  },
  "language_info": {
   "codemirror_mode": {
    "name": "ipython",
    "version": 3
   },
   "file_extension": ".py",
   "mimetype": "text/x-python",
   "name": "python",
   "nbconvert_exporter": "python",
   "pygments_lexer": "ipython3",
   "version": "3.11.7"
  }
 },
 "nbformat": 4,
 "nbformat_minor": 5
}
